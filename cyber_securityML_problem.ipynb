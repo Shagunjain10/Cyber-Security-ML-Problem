{
  "nbformat": 4,
  "nbformat_minor": 0,
  "metadata": {
    "colab": {
      "name": "cyber_securityML_problem.ipynb",
      "provenance": [],
      "collapsed_sections": []
    },
    "kernelspec": {
      "name": "python3",
      "display_name": "Python 3"
    },
    "accelerator": "GPU"
  },
  "cells": [
    {
      "cell_type": "code",
      "metadata": {
        "id": "dhJNwDuVaCA1"
      },
      "source": [
        "# Import the Library\r\n",
        "import numpy as np\r\n",
        "import pandas as pd"
      ],
      "execution_count": 1,
      "outputs": []
    },
    {
      "cell_type": "code",
      "metadata": {
        "id": "-el22hvFnBGn"
      },
      "source": [
        "import json"
      ],
      "execution_count": 2,
      "outputs": []
    },
    {
      "cell_type": "code",
      "metadata": {
        "id": "J8Usl04Bao1X"
      },
      "source": [
        "with open('/content/drive/MyDrive/cyber.json','r') as File:\r\n",
        "    df = json.load(File)\r\n",
        "df=pd.json_normalize(df)"
      ],
      "execution_count": 4,
      "outputs": []
    },
    {
      "cell_type": "code",
      "metadata": {
        "id": "zRTz_8-1m3Ce",
        "colab": {
          "base_uri": "https://localhost:8080/",
          "height": 394
        },
        "outputId": "b2bbab45-164c-4816-a9d9-047cf98ab862"
      },
      "source": [
        "df.head()"
      ],
      "execution_count": 5,
      "outputs": [
        {
          "output_type": "execute_result",
          "data": {
            "text/html": [
              "<div>\n",
              "<style scoped>\n",
              "    .dataframe tbody tr th:only-of-type {\n",
              "        vertical-align: middle;\n",
              "    }\n",
              "\n",
              "    .dataframe tbody tr th {\n",
              "        vertical-align: top;\n",
              "    }\n",
              "\n",
              "    .dataframe thead th {\n",
              "        text-align: right;\n",
              "    }\n",
              "</style>\n",
              "<table border=\"1\" class=\"dataframe\">\n",
              "  <thead>\n",
              "    <tr style=\"text-align: right;\">\n",
              "      <th></th>\n",
              "      <th>isSafe</th>\n",
              "      <th>req.baseUrl</th>\n",
              "      <th>req.body.note.title</th>\n",
              "      <th>req.body.note.desc</th>\n",
              "      <th>req.fresh</th>\n",
              "      <th>req.headers.host</th>\n",
              "      <th>req.headers.user-agent</th>\n",
              "      <th>req.headers.content-type</th>\n",
              "      <th>req.headers.org_id</th>\n",
              "      <th>req.headers.user_session_id</th>\n",
              "      <th>req.headers.accept</th>\n",
              "      <th>req.headers.content-length</th>\n",
              "      <th>req.headers.user.name</th>\n",
              "      <th>req.headers.user.role</th>\n",
              "      <th>req.hostname</th>\n",
              "      <th>req.ip</th>\n",
              "      <th>req.ips</th>\n",
              "      <th>req.originalUrl</th>\n",
              "      <th>req.path</th>\n",
              "      <th>req.protocol</th>\n",
              "      <th>req.secure</th>\n",
              "      <th>req.stale</th>\n",
              "      <th>req.subdomains</th>\n",
              "      <th>req.xhr</th>\n",
              "    </tr>\n",
              "  </thead>\n",
              "  <tbody>\n",
              "    <tr>\n",
              "      <th>0</th>\n",
              "      <td>True</td>\n",
              "      <td>/crm/note</td>\n",
              "      <td>Tina Johnson</td>\n",
              "      <td>Top recognize eat. Fact whom spend area thing ...</td>\n",
              "      <td>False</td>\n",
              "      <td>example.com</td>\n",
              "      <td>insomnia/2020.4.2</td>\n",
              "      <td>application/json</td>\n",
              "      <td>5f572820f65af8ac955b2e83</td>\n",
              "      <td>5fb27d3750b11901a35649fe</td>\n",
              "      <td>*/*</td>\n",
              "      <td>70</td>\n",
              "      <td>sam</td>\n",
              "      <td>sales1</td>\n",
              "      <td>example.com</td>\n",
              "      <td>::ffff:117.99.96.244</td>\n",
              "      <td>[]</td>\n",
              "      <td>/crm/note</td>\n",
              "      <td>/note</td>\n",
              "      <td>http</td>\n",
              "      <td>False</td>\n",
              "      <td>True</td>\n",
              "      <td>[crm]</td>\n",
              "      <td>False</td>\n",
              "    </tr>\n",
              "    <tr>\n",
              "      <th>1</th>\n",
              "      <td>True</td>\n",
              "      <td>/crm/note</td>\n",
              "      <td>Clayton Cooper</td>\n",
              "      <td>As possible American many prepare four strong....</td>\n",
              "      <td>False</td>\n",
              "      <td>example.com</td>\n",
              "      <td>insomnia/2020.4.2</td>\n",
              "      <td>application/json</td>\n",
              "      <td>5f572820f65af8ac955b2e83</td>\n",
              "      <td>5fb27d3750b11901a35649fe</td>\n",
              "      <td>*/*</td>\n",
              "      <td>70</td>\n",
              "      <td>sam</td>\n",
              "      <td>sales1</td>\n",
              "      <td>example.com</td>\n",
              "      <td>::ffff:117.99.96.244</td>\n",
              "      <td>[]</td>\n",
              "      <td>/crm/note</td>\n",
              "      <td>/note</td>\n",
              "      <td>http</td>\n",
              "      <td>False</td>\n",
              "      <td>True</td>\n",
              "      <td>[crm]</td>\n",
              "      <td>False</td>\n",
              "    </tr>\n",
              "    <tr>\n",
              "      <th>2</th>\n",
              "      <td>False</td>\n",
              "      <td>/crm/note</td>\n",
              "      <td>Curtis Wolfe</td>\n",
              "      <td>Tuesday Notes or 2 like 2 XSP Class</td>\n",
              "      <td>False</td>\n",
              "      <td>example.com</td>\n",
              "      <td>insomnia/2020.4.2</td>\n",
              "      <td>application/json</td>\n",
              "      <td>5f572820f65af8ac955b2e83</td>\n",
              "      <td>5fb27d3750b11901a35649fe</td>\n",
              "      <td>*/*</td>\n",
              "      <td>70</td>\n",
              "      <td>sam</td>\n",
              "      <td>sales1</td>\n",
              "      <td>example.com</td>\n",
              "      <td>::ffff:117.99.96.244</td>\n",
              "      <td>[]</td>\n",
              "      <td>/crm/note</td>\n",
              "      <td>/note</td>\n",
              "      <td>http</td>\n",
              "      <td>False</td>\n",
              "      <td>True</td>\n",
              "      <td>[crm]</td>\n",
              "      <td>False</td>\n",
              "    </tr>\n",
              "    <tr>\n",
              "      <th>3</th>\n",
              "      <td>True</td>\n",
              "      <td>/crm/note</td>\n",
              "      <td>Laura Fisher</td>\n",
              "      <td>State third represent energy campaign not forg...</td>\n",
              "      <td>False</td>\n",
              "      <td>example.com</td>\n",
              "      <td>insomnia/2020.4.2</td>\n",
              "      <td>application/json</td>\n",
              "      <td>5f572820f65af8ac955b2e83</td>\n",
              "      <td>5fb27d3750b11901a35649fe</td>\n",
              "      <td>*/*</td>\n",
              "      <td>70</td>\n",
              "      <td>sam</td>\n",
              "      <td>sales1</td>\n",
              "      <td>example.com</td>\n",
              "      <td>::ffff:117.99.96.244</td>\n",
              "      <td>[]</td>\n",
              "      <td>/crm/note</td>\n",
              "      <td>/note</td>\n",
              "      <td>http</td>\n",
              "      <td>False</td>\n",
              "      <td>True</td>\n",
              "      <td>[crm]</td>\n",
              "      <td>False</td>\n",
              "    </tr>\n",
              "    <tr>\n",
              "      <th>4</th>\n",
              "      <td>False</td>\n",
              "      <td>/crm/note</td>\n",
              "      <td>Tyler Santos</td>\n",
              "      <td>Us enjoy since. Time identify image position o...</td>\n",
              "      <td>False</td>\n",
              "      <td>example.com</td>\n",
              "      <td>insomnia/2020.4.2</td>\n",
              "      <td>application/json</td>\n",
              "      <td>5f572820f65af8ac955b2e83</td>\n",
              "      <td>5fb27d3750b11901a35649fe</td>\n",
              "      <td>*/*</td>\n",
              "      <td>70</td>\n",
              "      <td>sam</td>\n",
              "      <td>sales1</td>\n",
              "      <td>example.com</td>\n",
              "      <td>::ffff:117.99.96.244</td>\n",
              "      <td>[]</td>\n",
              "      <td>/crm/note</td>\n",
              "      <td>/note</td>\n",
              "      <td>http</td>\n",
              "      <td>False</td>\n",
              "      <td>True</td>\n",
              "      <td>[crm]</td>\n",
              "      <td>False</td>\n",
              "    </tr>\n",
              "  </tbody>\n",
              "</table>\n",
              "</div>"
            ],
            "text/plain": [
              "   isSafe req.baseUrl req.body.note.title  ... req.stale  req.subdomains req.xhr\n",
              "0    True   /crm/note        Tina Johnson  ...      True           [crm]   False\n",
              "1    True   /crm/note      Clayton Cooper  ...      True           [crm]   False\n",
              "2   False   /crm/note        Curtis Wolfe  ...      True           [crm]   False\n",
              "3    True   /crm/note        Laura Fisher  ...      True           [crm]   False\n",
              "4   False   /crm/note        Tyler Santos  ...      True           [crm]   False\n",
              "\n",
              "[5 rows x 24 columns]"
            ]
          },
          "metadata": {
            "tags": []
          },
          "execution_count": 5
        }
      ]
    },
    {
      "cell_type": "code",
      "metadata": {
        "colab": {
          "base_uri": "https://localhost:8080/"
        },
        "id": "eW0PUP_l13uB",
        "outputId": "36673c2b-ba2c-4c87-8603-55c7469c04ec"
      },
      "source": [
        "df.shape"
      ],
      "execution_count": 6,
      "outputs": [
        {
          "output_type": "execute_result",
          "data": {
            "text/plain": [
              "(1000, 24)"
            ]
          },
          "metadata": {
            "tags": []
          },
          "execution_count": 6
        }
      ]
    },
    {
      "cell_type": "code",
      "metadata": {
        "colab": {
          "base_uri": "https://localhost:8080/"
        },
        "id": "1WakDIi8vYKT",
        "outputId": "13c84b5f-4d00-4414-9980-44b3207bfc8f"
      },
      "source": [
        "df.info()"
      ],
      "execution_count": 7,
      "outputs": [
        {
          "output_type": "stream",
          "text": [
            "<class 'pandas.core.frame.DataFrame'>\n",
            "RangeIndex: 1000 entries, 0 to 999\n",
            "Data columns (total 24 columns):\n",
            " #   Column                       Non-Null Count  Dtype \n",
            "---  ------                       --------------  ----- \n",
            " 0   isSafe                       1000 non-null   bool  \n",
            " 1   req.baseUrl                  1000 non-null   object\n",
            " 2   req.body.note.title          1000 non-null   object\n",
            " 3   req.body.note.desc           1000 non-null   object\n",
            " 4   req.fresh                    1000 non-null   bool  \n",
            " 5   req.headers.host             1000 non-null   object\n",
            " 6   req.headers.user-agent       1000 non-null   object\n",
            " 7   req.headers.content-type     1000 non-null   object\n",
            " 8   req.headers.org_id           1000 non-null   object\n",
            " 9   req.headers.user_session_id  1000 non-null   object\n",
            " 10  req.headers.accept           1000 non-null   object\n",
            " 11  req.headers.content-length   1000 non-null   object\n",
            " 12  req.headers.user.name        1000 non-null   object\n",
            " 13  req.headers.user.role        1000 non-null   object\n",
            " 14  req.hostname                 1000 non-null   object\n",
            " 15  req.ip                       1000 non-null   object\n",
            " 16  req.ips                      1000 non-null   object\n",
            " 17  req.originalUrl              1000 non-null   object\n",
            " 18  req.path                     1000 non-null   object\n",
            " 19  req.protocol                 1000 non-null   object\n",
            " 20  req.secure                   1000 non-null   bool  \n",
            " 21  req.stale                    1000 non-null   bool  \n",
            " 22  req.subdomains               1000 non-null   object\n",
            " 23  req.xhr                      1000 non-null   bool  \n",
            "dtypes: bool(5), object(19)\n",
            "memory usage: 153.4+ KB\n"
          ],
          "name": "stdout"
        }
      ]
    },
    {
      "cell_type": "markdown",
      "metadata": {
        "id": "z4BdF-WVvbI0"
      },
      "source": [
        "In this data there is no null values"
      ]
    },
    {
      "cell_type": "code",
      "metadata": {
        "colab": {
          "base_uri": "https://localhost:8080/"
        },
        "id": "bZ7btpaJnlgn",
        "outputId": "50fad354-8621-435a-d9ca-a992236f298c"
      },
      "source": [
        "df['req.baseUrl'].value_counts()"
      ],
      "execution_count": 8,
      "outputs": [
        {
          "output_type": "execute_result",
          "data": {
            "text/plain": [
              "/crm/note    1000\n",
              "Name: req.baseUrl, dtype: int64"
            ]
          },
          "metadata": {
            "tags": []
          },
          "execution_count": 8
        }
      ]
    },
    {
      "cell_type": "code",
      "metadata": {
        "colab": {
          "base_uri": "https://localhost:8080/"
        },
        "id": "ylR23Pf8pCDF",
        "outputId": "e02c16c5-ef9a-4b0c-dd1c-c7aad0859587"
      },
      "source": [
        "df['isSafe'].value_counts()"
      ],
      "execution_count": 9,
      "outputs": [
        {
          "output_type": "execute_result",
          "data": {
            "text/plain": [
              "True     572\n",
              "False    428\n",
              "Name: isSafe, dtype: int64"
            ]
          },
          "metadata": {
            "tags": []
          },
          "execution_count": 9
        }
      ]
    },
    {
      "cell_type": "code",
      "metadata": {
        "colab": {
          "base_uri": "https://localhost:8080/"
        },
        "id": "ntmk4hie1u0Q",
        "outputId": "135864ae-cd49-4abd-b37d-9780c6ba9870"
      },
      "source": [
        "df.columns"
      ],
      "execution_count": 10,
      "outputs": [
        {
          "output_type": "execute_result",
          "data": {
            "text/plain": [
              "Index(['isSafe', 'req.baseUrl', 'req.body.note.title', 'req.body.note.desc',\n",
              "       'req.fresh', 'req.headers.host', 'req.headers.user-agent',\n",
              "       'req.headers.content-type', 'req.headers.org_id',\n",
              "       'req.headers.user_session_id', 'req.headers.accept',\n",
              "       'req.headers.content-length', 'req.headers.user.name',\n",
              "       'req.headers.user.role', 'req.hostname', 'req.ip', 'req.ips',\n",
              "       'req.originalUrl', 'req.path', 'req.protocol', 'req.secure',\n",
              "       'req.stale', 'req.subdomains', 'req.xhr'],\n",
              "      dtype='object')"
            ]
          },
          "metadata": {
            "tags": []
          },
          "execution_count": 10
        }
      ]
    },
    {
      "cell_type": "code",
      "metadata": {
        "id": "rvIrNCef17Hf"
      },
      "source": [
        "\r\n",
        "df_dict= {0:'isSafe',1: 'req.baseUrl', 2:'req.body.note.title',3: 'req.body.note.desc',\r\n",
        "       4:'req.fresh', 5:'req.headers.host', 6:'req.headers.user-agent',\r\n",
        "       7:'req.headers.content-type',8: 'req.headers.org_id',\r\n",
        "       9:'req.headers.user_session_id',10: 'req.headers.accept',\r\n",
        "       11:'req.headers.content-length',12: 'req.headers.user.name',\r\n",
        "       13:'req.headers.user.role',14: 'req.hostname',15: 'req.ip',16: 'req.ips',\r\n",
        "       17:'req.originalUrl',18: 'req.path',19: 'req.protocol',20: 'req.secure',\r\n",
        "       21:'req.stale',22: 'req.subdomains',23: 'req.xhr'}"
      ],
      "execution_count": 11,
      "outputs": []
    },
    {
      "cell_type": "code",
      "metadata": {
        "colab": {
          "base_uri": "https://localhost:8080/"
        },
        "id": "Q2oTEGGr2T-Z",
        "outputId": "4635482b-0fe5-44b9-ff86-478560c3b196"
      },
      "source": [
        "for i in range(0,24):\r\n",
        "  print(df_dict[i])\r\n",
        "  print(df[df_dict[i]].value_counts())\r\n",
        "  print(\"\\n\\n\")"
      ],
      "execution_count": 12,
      "outputs": [
        {
          "output_type": "stream",
          "text": [
            "isSafe\n",
            "True     572\n",
            "False    428\n",
            "Name: isSafe, dtype: int64\n",
            "\n",
            "\n",
            "\n",
            "req.baseUrl\n",
            "/crm/note    1000\n",
            "Name: req.baseUrl, dtype: int64\n",
            "\n",
            "\n",
            "\n",
            "req.body.note.title\n",
            "Michael Smith           3\n",
            "David Adams             2\n",
            "Heather Davis           2\n",
            "Michael Davis           2\n",
            "Heather Smith           2\n",
            "                       ..\n",
            "Shannon Morgan          1\n",
            "Christopher Petersen    1\n",
            "Joyce Kim               1\n",
            "Timothy Cole            1\n",
            "Adrienne Mason          1\n",
            "Name: req.body.note.title, Length: 994, dtype: int64\n",
            "\n",
            "\n",
            "\n",
            "req.body.note.desc\n",
            "note title <title onPropertyChange title onPropertyChange=\"javascript:javascript:alert(1)\"></title onPropertyChange>                                                                             36\n",
            "Meeting \")) or ((\"x\"))=((\"x Notes 12:30                                                                                                                                                          33\n",
            "text1<video src=1 href=1 onerror=\"javascript:alert(1)\"></video>hello                                                                                                                             32\n",
            "ext1%3Cvideo+src%3D1+href%3D1+onerror%3D%22javascript%3Aalert%281%29%22%3E%3C%2Fvideo%3E                                                                                                         29\n",
            "notes --><!-- -->> <img src=xxx:x onerror=javascript:alert(1)> --> hello de                                                                                                                      29\n",
            "                                                                                                                                                                                                 ..\n",
            "Mr support color history natural PM. Information news example stay four. Unit mouth wish item maybe soldier.                                                                                      1\n",
            "Deep word day wear key sing.\\nTv list blue almost. Size upon dog difference set price.\\nEconomic able crime best thus send street boy. Whole determine down simple.                               1\n",
            "As possible American many prepare four strong. Visit care be organization everyone kitchen development magazine. Range realize direction wife capital move.                                       1\n",
            "Hit its tough occur term. Good station arm if.\\nContinue reduce as final almost too.\\nSimple land discussion financial we surface simple effect. Around later wonder ok enough radio after.       1\n",
            "Set heavy west argue prove actually. Cultural drug past stay can boy.\\nCapital ability myself three everybody. Television take see finish picture. Focus eye hot course wish own eight media.     1\n",
            "Name: req.body.note.desc, Length: 750, dtype: int64\n",
            "\n",
            "\n",
            "\n",
            "req.fresh\n",
            "False    1000\n",
            "Name: req.fresh, dtype: int64\n",
            "\n",
            "\n",
            "\n",
            "req.headers.host\n",
            "example.com    1000\n",
            "Name: req.headers.host, dtype: int64\n",
            "\n",
            "\n",
            "\n",
            "req.headers.user-agent\n",
            "insomnia/2020.4.2    1000\n",
            "Name: req.headers.user-agent, dtype: int64\n",
            "\n",
            "\n",
            "\n",
            "req.headers.content-type\n",
            "application/json    1000\n",
            "Name: req.headers.content-type, dtype: int64\n",
            "\n",
            "\n",
            "\n",
            "req.headers.org_id\n",
            "5f572820f65af8ac955b2e83    1000\n",
            "Name: req.headers.org_id, dtype: int64\n",
            "\n",
            "\n",
            "\n",
            "req.headers.user_session_id\n",
            "5fb27d3750b11901a35649fe    1000\n",
            "Name: req.headers.user_session_id, dtype: int64\n",
            "\n",
            "\n",
            "\n",
            "req.headers.accept\n",
            "*/*    1000\n",
            "Name: req.headers.accept, dtype: int64\n",
            "\n",
            "\n",
            "\n",
            "req.headers.content-length\n",
            "70    1000\n",
            "Name: req.headers.content-length, dtype: int64\n",
            "\n",
            "\n",
            "\n",
            "req.headers.user.name\n",
            "sam    1000\n",
            "Name: req.headers.user.name, dtype: int64\n",
            "\n",
            "\n",
            "\n",
            "req.headers.user.role\n",
            "sales1    1000\n",
            "Name: req.headers.user.role, dtype: int64\n",
            "\n",
            "\n",
            "\n",
            "req.hostname\n",
            "example.com    1000\n",
            "Name: req.hostname, dtype: int64\n",
            "\n",
            "\n",
            "\n",
            "req.ip\n",
            "::ffff:117.99.96.244    1000\n",
            "Name: req.ip, dtype: int64\n",
            "\n",
            "\n",
            "\n",
            "req.ips\n",
            "[]    1000\n",
            "Name: req.ips, dtype: int64\n",
            "\n",
            "\n",
            "\n",
            "req.originalUrl\n",
            "/crm/note    1000\n",
            "Name: req.originalUrl, dtype: int64\n",
            "\n",
            "\n",
            "\n",
            "req.path\n",
            "/note    1000\n",
            "Name: req.path, dtype: int64\n",
            "\n",
            "\n",
            "\n",
            "req.protocol\n",
            "http    1000\n",
            "Name: req.protocol, dtype: int64\n",
            "\n",
            "\n",
            "\n",
            "req.secure\n",
            "False    1000\n",
            "Name: req.secure, dtype: int64\n",
            "\n",
            "\n",
            "\n",
            "req.stale\n",
            "True    1000\n",
            "Name: req.stale, dtype: int64\n",
            "\n",
            "\n",
            "\n",
            "req.subdomains\n",
            "[crm]    1000\n",
            "Name: req.subdomains, dtype: int64\n",
            "\n",
            "\n",
            "\n",
            "req.xhr\n",
            "False    1000\n",
            "Name: req.xhr, dtype: int64\n",
            "\n",
            "\n",
            "\n"
          ],
          "name": "stdout"
        }
      ]
    },
    {
      "cell_type": "markdown",
      "metadata": {
        "id": "IoE4c2se7DT3"
      },
      "source": [
        "Some parameter are same with complete dataset. because of which they are not useful for training the model.\r\n",
        "Those attribute are:- \r\n",
        "\r\n",
        "1. req.baseUrl\r\n",
        "2. req.fresh\r\n",
        "3. req.headers.host\r\n",
        "4. req.headers.user-agent\r\n",
        "5. req.headers.content-type\r\n",
        "6. req.headers.org_id\r\n",
        "7. req.headers.user_session_id\r\n",
        "8. req.headers.accept\r\n",
        "9. req.headers.content-length\r\n",
        "10. req.headers.user.name\r\n",
        "11. req.headers.user.role\r\n",
        "12. req.hostname\r\n",
        "13. req.ip\r\n",
        "14. req.ips\r\n",
        "15. req.originalUrl\r\n",
        "16. req.path\r\n",
        "17. req.protocol\r\n",
        "18. req.secure\r\n",
        "19. req.stale\r\n",
        "20. req.subdomains\r\n",
        "21. req.xhr\r\n",
        "\r\n",
        "\r\n",
        "*req.body.note.title* parameter is different for most of the dataset rows\r\n",
        "So we will drop this parameter also.\r\n",
        "\r\n"
      ]
    },
    {
      "cell_type": "code",
      "metadata": {
        "colab": {
          "base_uri": "https://localhost:8080/"
        },
        "id": "BGf8xuqPoysS",
        "outputId": "e93101f5-4949-470d-94df-98ec8c37a423"
      },
      "source": [
        "df.info()"
      ],
      "execution_count": 13,
      "outputs": [
        {
          "output_type": "stream",
          "text": [
            "<class 'pandas.core.frame.DataFrame'>\n",
            "RangeIndex: 1000 entries, 0 to 999\n",
            "Data columns (total 24 columns):\n",
            " #   Column                       Non-Null Count  Dtype \n",
            "---  ------                       --------------  ----- \n",
            " 0   isSafe                       1000 non-null   bool  \n",
            " 1   req.baseUrl                  1000 non-null   object\n",
            " 2   req.body.note.title          1000 non-null   object\n",
            " 3   req.body.note.desc           1000 non-null   object\n",
            " 4   req.fresh                    1000 non-null   bool  \n",
            " 5   req.headers.host             1000 non-null   object\n",
            " 6   req.headers.user-agent       1000 non-null   object\n",
            " 7   req.headers.content-type     1000 non-null   object\n",
            " 8   req.headers.org_id           1000 non-null   object\n",
            " 9   req.headers.user_session_id  1000 non-null   object\n",
            " 10  req.headers.accept           1000 non-null   object\n",
            " 11  req.headers.content-length   1000 non-null   object\n",
            " 12  req.headers.user.name        1000 non-null   object\n",
            " 13  req.headers.user.role        1000 non-null   object\n",
            " 14  req.hostname                 1000 non-null   object\n",
            " 15  req.ip                       1000 non-null   object\n",
            " 16  req.ips                      1000 non-null   object\n",
            " 17  req.originalUrl              1000 non-null   object\n",
            " 18  req.path                     1000 non-null   object\n",
            " 19  req.protocol                 1000 non-null   object\n",
            " 20  req.secure                   1000 non-null   bool  \n",
            " 21  req.stale                    1000 non-null   bool  \n",
            " 22  req.subdomains               1000 non-null   object\n",
            " 23  req.xhr                      1000 non-null   bool  \n",
            "dtypes: bool(5), object(19)\n",
            "memory usage: 153.4+ KB\n"
          ],
          "name": "stdout"
        }
      ]
    },
    {
      "cell_type": "code",
      "metadata": {
        "id": "lx3EaxXzBJj0"
      },
      "source": [
        "data = df.copy()"
      ],
      "execution_count": 14,
      "outputs": []
    },
    {
      "cell_type": "code",
      "metadata": {
        "id": "cf07bl-SBQeQ",
        "colab": {
          "base_uri": "https://localhost:8080/"
        },
        "outputId": "6cc97d9c-3ec7-4712-e6bb-d9b7095d2a47"
      },
      "source": [
        "data.info()"
      ],
      "execution_count": 15,
      "outputs": [
        {
          "output_type": "stream",
          "text": [
            "<class 'pandas.core.frame.DataFrame'>\n",
            "RangeIndex: 1000 entries, 0 to 999\n",
            "Data columns (total 24 columns):\n",
            " #   Column                       Non-Null Count  Dtype \n",
            "---  ------                       --------------  ----- \n",
            " 0   isSafe                       1000 non-null   bool  \n",
            " 1   req.baseUrl                  1000 non-null   object\n",
            " 2   req.body.note.title          1000 non-null   object\n",
            " 3   req.body.note.desc           1000 non-null   object\n",
            " 4   req.fresh                    1000 non-null   bool  \n",
            " 5   req.headers.host             1000 non-null   object\n",
            " 6   req.headers.user-agent       1000 non-null   object\n",
            " 7   req.headers.content-type     1000 non-null   object\n",
            " 8   req.headers.org_id           1000 non-null   object\n",
            " 9   req.headers.user_session_id  1000 non-null   object\n",
            " 10  req.headers.accept           1000 non-null   object\n",
            " 11  req.headers.content-length   1000 non-null   object\n",
            " 12  req.headers.user.name        1000 non-null   object\n",
            " 13  req.headers.user.role        1000 non-null   object\n",
            " 14  req.hostname                 1000 non-null   object\n",
            " 15  req.ip                       1000 non-null   object\n",
            " 16  req.ips                      1000 non-null   object\n",
            " 17  req.originalUrl              1000 non-null   object\n",
            " 18  req.path                     1000 non-null   object\n",
            " 19  req.protocol                 1000 non-null   object\n",
            " 20  req.secure                   1000 non-null   bool  \n",
            " 21  req.stale                    1000 non-null   bool  \n",
            " 22  req.subdomains               1000 non-null   object\n",
            " 23  req.xhr                      1000 non-null   bool  \n",
            "dtypes: bool(5), object(19)\n",
            "memory usage: 153.4+ KB\n"
          ],
          "name": "stdout"
        }
      ]
    },
    {
      "cell_type": "markdown",
      "metadata": {
        "id": "xXy36-Nj6VPD"
      },
      "source": [
        "**Data Cleaning**"
      ]
    },
    {
      "cell_type": "markdown",
      "metadata": {
        "id": "d6Yhxn26zheN"
      },
      "source": [
        ""
      ]
    },
    {
      "cell_type": "code",
      "metadata": {
        "id": "dX4c06RZ5ejg"
      },
      "source": [
        "data = data.drop([ 'req.baseUrl', 'req.body.note.title',\r\n",
        "       'req.fresh', 'req.headers.host', 'req.headers.user-agent',\r\n",
        "       'req.headers.content-type', 'req.headers.org_id',\r\n",
        "       'req.headers.user_session_id', 'req.headers.accept',\r\n",
        "       'req.headers.content-length', 'req.headers.user.name',\r\n",
        "       'req.headers.user.role', 'req.hostname', 'req.ip', 'req.ips',\r\n",
        "       'req.originalUrl', 'req.path', 'req.protocol', 'req.secure',\r\n",
        "       'req.stale', 'req.subdomains', 'req.xhr'],axis=1)"
      ],
      "execution_count": 16,
      "outputs": []
    },
    {
      "cell_type": "code",
      "metadata": {
        "colab": {
          "base_uri": "https://localhost:8080/"
        },
        "id": "wkExJbov5z2M",
        "outputId": "b3ef72ae-6c31-46ea-f0eb-8a1cc2d1bc08"
      },
      "source": [
        "data.info()"
      ],
      "execution_count": 17,
      "outputs": [
        {
          "output_type": "stream",
          "text": [
            "<class 'pandas.core.frame.DataFrame'>\n",
            "RangeIndex: 1000 entries, 0 to 999\n",
            "Data columns (total 2 columns):\n",
            " #   Column              Non-Null Count  Dtype \n",
            "---  ------              --------------  ----- \n",
            " 0   isSafe              1000 non-null   bool  \n",
            " 1   req.body.note.desc  1000 non-null   object\n",
            "dtypes: bool(1), object(1)\n",
            "memory usage: 8.9+ KB\n"
          ],
          "name": "stdout"
        }
      ]
    },
    {
      "cell_type": "code",
      "metadata": {
        "id": "FB90WiHk6R_e"
      },
      "source": [
        "\r\n",
        "import nltk\r\n",
        "from nltk.corpus import stopwords\r\n",
        "from nltk.stem.porter import PorterStemmer\r\n",
        "import seaborn as sns\r\n",
        "import re\r\n",
        "from sklearn.feature_extraction.text import CountVectorizer\r\n",
        "from sklearn.model_selection import train_test_split"
      ],
      "execution_count": 18,
      "outputs": []
    },
    {
      "cell_type": "code",
      "metadata": {
        "colab": {
          "base_uri": "https://localhost:8080/"
        },
        "id": "kXwl9xEf69rS",
        "outputId": "1923d2ec-4287-4f6b-9009-4e1b52c0f2ff"
      },
      "source": [
        "stemmer = PorterStemmer()\r\n",
        "nltk.download('stopwords')"
      ],
      "execution_count": 19,
      "outputs": [
        {
          "output_type": "stream",
          "text": [
            "[nltk_data] Downloading package stopwords to /root/nltk_data...\n",
            "[nltk_data]   Unzipping corpora/stopwords.zip.\n"
          ],
          "name": "stdout"
        },
        {
          "output_type": "execute_result",
          "data": {
            "text/plain": [
              "True"
            ]
          },
          "metadata": {
            "tags": []
          },
          "execution_count": 19
        }
      ]
    },
    {
      "cell_type": "code",
      "metadata": {
        "id": "yqGSS7qz7AbD"
      },
      "source": [
        "text=[]\r\n"
      ],
      "execution_count": 21,
      "outputs": []
    },
    {
      "cell_type": "code",
      "metadata": {
        "id": "ZS8dXIZP7E-H"
      },
      "source": [
        "for i in range(0,1000):\r\n",
        "    sentence = re.sub('[^a-zA-Z123456789]', ' ', data['req.body.note.desc'][i])\r\n",
        "    sentence = sentence.lower()\r\n",
        "    sentence = sentence.split()\r\n",
        "    sentence = [stemmer.stem(word) for word in sentence if not word in stopwords.words('english')]\r\n",
        "    sentence = ' '.join(sentence)\r\n",
        "    text.append(sentence)"
      ],
      "execution_count": 22,
      "outputs": []
    },
    {
      "cell_type": "code",
      "metadata": {
        "id": "m9KCiqKw7Woy"
      },
      "source": [
        "y = data['isSafe']\r\n"
      ],
      "execution_count": 23,
      "outputs": []
    },
    {
      "cell_type": "code",
      "metadata": {
        "colab": {
          "base_uri": "https://localhost:8080/"
        },
        "id": "m8n4eLd-97i4",
        "outputId": "007d5427-c526-4553-c789-5e4ea4d08d28"
      },
      "source": [
        "y"
      ],
      "execution_count": 24,
      "outputs": [
        {
          "output_type": "execute_result",
          "data": {
            "text/plain": [
              "0       True\n",
              "1       True\n",
              "2      False\n",
              "3       True\n",
              "4      False\n",
              "       ...  \n",
              "995     True\n",
              "996    False\n",
              "997     True\n",
              "998     True\n",
              "999     True\n",
              "Name: isSafe, Length: 1000, dtype: bool"
            ]
          },
          "metadata": {
            "tags": []
          },
          "execution_count": 24
        }
      ]
    },
    {
      "cell_type": "code",
      "metadata": {
        "colab": {
          "base_uri": "https://localhost:8080/"
        },
        "id": "aLJ7Skgc-RA1",
        "outputId": "4b7566b1-aa19-46ec-92c9-80774ef8694e"
      },
      "source": [
        "type(y[3])"
      ],
      "execution_count": 25,
      "outputs": [
        {
          "output_type": "execute_result",
          "data": {
            "text/plain": [
              "numpy.bool_"
            ]
          },
          "metadata": {
            "tags": []
          },
          "execution_count": 25
        }
      ]
    },
    {
      "cell_type": "code",
      "metadata": {
        "id": "cXuGPqQI-Mc5"
      },
      "source": [
        "y=y.astype(int)"
      ],
      "execution_count": 26,
      "outputs": []
    },
    {
      "cell_type": "code",
      "metadata": {
        "colab": {
          "base_uri": "https://localhost:8080/"
        },
        "id": "OFIaxIm1-e26",
        "outputId": "5171b6fb-a495-4c55-de6b-672a08bcaa65"
      },
      "source": [
        "y"
      ],
      "execution_count": 27,
      "outputs": [
        {
          "output_type": "execute_result",
          "data": {
            "text/plain": [
              "0      1\n",
              "1      1\n",
              "2      0\n",
              "3      1\n",
              "4      0\n",
              "      ..\n",
              "995    1\n",
              "996    0\n",
              "997    1\n",
              "998    1\n",
              "999    1\n",
              "Name: isSafe, Length: 1000, dtype: int64"
            ]
          },
          "metadata": {
            "tags": []
          },
          "execution_count": 27
        }
      ]
    },
    {
      "cell_type": "code",
      "metadata": {
        "id": "LYz_TM8W-A9E"
      },
      "source": [
        "train_data = pd.DataFrame(list(zip(text,y)),columns=['Text','label'])\r\n"
      ],
      "execution_count": 28,
      "outputs": []
    },
    {
      "cell_type": "code",
      "metadata": {
        "colab": {
          "base_uri": "https://localhost:8080/",
          "height": 204
        },
        "id": "Jps7j_dv-IbN",
        "outputId": "af24a736-63ef-481c-a91c-be98514701c1"
      },
      "source": [
        "train_data.head()\r\n"
      ],
      "execution_count": 29,
      "outputs": [
        {
          "output_type": "execute_result",
          "data": {
            "text/html": [
              "<div>\n",
              "<style scoped>\n",
              "    .dataframe tbody tr th:only-of-type {\n",
              "        vertical-align: middle;\n",
              "    }\n",
              "\n",
              "    .dataframe tbody tr th {\n",
              "        vertical-align: top;\n",
              "    }\n",
              "\n",
              "    .dataframe thead th {\n",
              "        text-align: right;\n",
              "    }\n",
              "</style>\n",
              "<table border=\"1\" class=\"dataframe\">\n",
              "  <thead>\n",
              "    <tr style=\"text-align: right;\">\n",
              "      <th></th>\n",
              "      <th>Text</th>\n",
              "      <th>label</th>\n",
              "    </tr>\n",
              "  </thead>\n",
              "  <tbody>\n",
              "    <tr>\n",
              "      <th>0</th>\n",
              "      <td>top recogn eat fact spend area thing materi wa...</td>\n",
              "      <td>1</td>\n",
              "    </tr>\n",
              "    <tr>\n",
              "      <th>1</th>\n",
              "      <td>possibl american mani prepar four strong visit...</td>\n",
              "      <td>1</td>\n",
              "    </tr>\n",
              "    <tr>\n",
              "      <th>2</th>\n",
              "      <td>tuesday note 2 like 2 xsp class</td>\n",
              "      <td>0</td>\n",
              "    </tr>\n",
              "    <tr>\n",
              "      <th>3</th>\n",
              "      <td>state third repres energi campaign forget expe...</td>\n",
              "      <td>1</td>\n",
              "    </tr>\n",
              "    <tr>\n",
              "      <th>4</th>\n",
              "      <td>us enjoy sinc time identifi imag posit ok best...</td>\n",
              "      <td>0</td>\n",
              "    </tr>\n",
              "  </tbody>\n",
              "</table>\n",
              "</div>"
            ],
            "text/plain": [
              "                                                Text  label\n",
              "0  top recogn eat fact spend area thing materi wa...      1\n",
              "1  possibl american mani prepar four strong visit...      1\n",
              "2                    tuesday note 2 like 2 xsp class      0\n",
              "3  state third repres energi campaign forget expe...      1\n",
              "4  us enjoy sinc time identifi imag posit ok best...      0"
            ]
          },
          "metadata": {
            "tags": []
          },
          "execution_count": 29
        }
      ]
    },
    {
      "cell_type": "code",
      "metadata": {
        "colab": {
          "base_uri": "https://localhost:8080/",
          "height": 354
        },
        "id": "37Dg2mT1-Kyh",
        "outputId": "d6ec72a3-edb7-4ae5-87f3-ac4e0f899e7e"
      },
      "source": [
        "sns.countplot(train_data['label'])\r\n"
      ],
      "execution_count": 30,
      "outputs": [
        {
          "output_type": "stream",
          "text": [
            "/usr/local/lib/python3.6/dist-packages/seaborn/_decorators.py:43: FutureWarning: Pass the following variable as a keyword arg: x. From version 0.12, the only valid positional argument will be `data`, and passing other arguments without an explicit keyword will result in an error or misinterpretation.\n",
            "  FutureWarning\n"
          ],
          "name": "stderr"
        },
        {
          "output_type": "execute_result",
          "data": {
            "text/plain": [
              "<matplotlib.axes._subplots.AxesSubplot at 0x7fb2f96ee080>"
            ]
          },
          "metadata": {
            "tags": []
          },
          "execution_count": 30
        },
        {
          "output_type": "display_data",
          "data": {
            "image/png": "[encoded data removed]",
            "text/plain": [
              "<Figure size 432x288 with 1 Axes>"
            ]
          },
          "metadata": {
            "tags": [],
            "needs_background": "light"
          }
        }
      ]
    },
    {
      "cell_type": "code",
      "metadata": {
        "id": "mUxV6juR-yoK"
      },
      "source": [
        "cv = CountVectorizer(max_features=5000,ngram_range=(1,3))\r\n",
        "X = cv.fit_transform(text).toarray()"
      ],
      "execution_count": 32,
      "outputs": []
    },
    {
      "cell_type": "code",
      "metadata": {
        "id": "MbeN3WxKIWBK"
      },
      "source": [
        "xtrain,xtest,ytrain,ytest = train_test_split(X,y,test_size=0.33,random_state=42)\r\n"
      ],
      "execution_count": null,
      "outputs": []
    },
    {
      "cell_type": "code",
      "metadata": {
        "colab": {
          "base_uri": "https://localhost:8080/"
        },
        "id": "n4h5_5ktIx2s",
        "outputId": "9e97490c-97e8-4c17-d7c5-db551b23de19"
      },
      "source": [
        "from sklearn.naive_bayes import MultinomialNB\r\n",
        "classifier=MultinomialNB()\r\n",
        "from sklearn import metrics\r\n",
        "classifier.fit(xtrain, ytrain)\r\n",
        "pred = classifier.predict(xtest)\r\n",
        "score = metrics.accuracy_score(ytest, pred)\r\n",
        "print(\"accuracy:   %0.3f\" % score)"
      ],
      "execution_count": null,
      "outputs": [
        {
          "output_type": "stream",
          "text": [
            "accuracy:   0.836\n"
          ],
          "name": "stdout"
        }
      ]
    },
    {
      "cell_type": "markdown",
      "metadata": {
        "id": "YNYqs5Ox4NgZ"
      },
      "source": [
        "**Accuracy: 0.836 using Multinomial Naive Bayes Classifier**"
      ]
    },
    {
      "cell_type": "code",
      "metadata": {
        "colab": {
          "base_uri": "https://localhost:8080/"
        },
        "id": "vTMmc7vQio5z",
        "outputId": "218a0dc8-22d4-4e42-8f02-03a5cdab78a4"
      },
      "source": [
        "# Let's see the result when we choose different values of alpha and find best best hyperparameter.\r\n",
        "classifier=MultinomialNB(alpha=0.1)\r\n",
        "\r\n",
        "previous_score=0\r\n",
        "for alpha in np.arange(0,1,0.1):\r\n",
        "    sub_classifier=MultinomialNB(alpha=alpha)\r\n",
        "    sub_classifier.fit(xtrain,ytrain)\r\n",
        "    y_pred=sub_classifier.predict(xtest)\r\n",
        "    score = metrics.accuracy_score(ytest, y_pred)\r\n",
        "    if score>previous_score:\r\n",
        "        classifier=sub_classifier\r\n",
        "    print(\"Alpha: {}, Score : {}\".format(alpha,score))"
      ],
      "execution_count": null,
      "outputs": [
        {
          "output_type": "stream",
          "text": [
            "/usr/local/lib/python3.6/dist-packages/sklearn/naive_bayes.py:507: UserWarning: alpha too small will result in numeric errors, setting alpha = 1.0e-10\n",
            "  'setting alpha = %.1e' % _ALPHA_MIN)\n"
          ],
          "name": "stderr"
        },
        {
          "output_type": "stream",
          "text": [
            "Alpha: 0.0, Score : 0.8181818181818182\n",
            "Alpha: 0.1, Score : 0.8363636363636363\n",
            "Alpha: 0.2, Score : 0.8363636363636363\n",
            "Alpha: 0.30000000000000004, Score : 0.8363636363636363\n",
            "Alpha: 0.4, Score : 0.8363636363636363\n",
            "Alpha: 0.5, Score : 0.8363636363636363\n",
            "Alpha: 0.6000000000000001, Score : 0.8363636363636363\n",
            "Alpha: 0.7000000000000001, Score : 0.8363636363636363\n",
            "Alpha: 0.8, Score : 0.8363636363636363\n",
            "Alpha: 0.9, Score : 0.8363636363636363\n"
          ],
          "name": "stdout"
        }
      ]
    },
    {
      "cell_type": "code",
      "metadata": {
        "id": "t99ruICsllHs"
      },
      "source": [
        "# Deep Learning"
      ],
      "execution_count": null,
      "outputs": []
    },
    {
      "cell_type": "markdown",
      "metadata": {
        "id": "cfqpZPQs4h65"
      },
      "source": [
        "Let's use Tensorflow now and see If we get better accuracy"
      ]
    },
    {
      "cell_type": "code",
      "metadata": {
        "id": "UgsK_vbkl71e"
      },
      "source": [
        "import tensorflow as tf\r\n",
        "from tensorflow.keras.layers import Embedding\r\n",
        "from tensorflow.keras.preprocessing.sequence import pad_sequences\r\n",
        "from tensorflow.keras.models import Sequential\r\n",
        "from tensorflow.keras.preprocessing.text import one_hot\r\n",
        "from tensorflow.keras.layers import LSTM\r\n",
        "from tensorflow.keras.layers import Dense\r\n",
        "from tensorflow.keras.layers import Dropout\r\n"
      ],
      "execution_count": null,
      "outputs": []
    },
    {
      "cell_type": "code",
      "metadata": {
        "colab": {
          "base_uri": "https://localhost:8080/"
        },
        "id": "VtFSi5Jdl-Zz",
        "outputId": "83479b35-dda4-4b9d-cfb1-7bc41e2104ad"
      },
      "source": [
        "voc_size = 10000\r\n",
        "onehot_repr=[one_hot(words,voc_size)for words in text] \r\n",
        "sent_length=50\r\n",
        "embedded_docs=pad_sequences(onehot_repr,padding='pre',maxlen=sent_length)\r\n",
        "## Creating model\r\n",
        "embedding_vector_features=40\r\n",
        "model=Sequential()\r\n",
        "model.add(Embedding(voc_size,embedding_vector_features,input_length=sent_length))\r\n",
        "model.add(Dropout(0.7))\r\n",
        "model.add(LSTM(100))\r\n",
        "model.add(Dropout(0.7))\r\n",
        "model.add(Dense(1,activation='sigmoid'))\r\n",
        "model.compile(loss='binary_crossentropy',optimizer='adam',metrics=['accuracy'])\r\n",
        "print(model.summary())"
      ],
      "execution_count": null,
      "outputs": [
        {
          "output_type": "stream",
          "text": [
            "Model: \"sequential\"\n",
            "_________________________________________________________________\n",
            "Layer (type)                 Output Shape              Param #   \n",
            "=================================================================\n",
            "embedding (Embedding)        (None, 50, 40)            400000    \n",
            "_________________________________________________________________\n",
            "dropout (Dropout)            (None, 50, 40)            0         \n",
            "_________________________________________________________________\n",
            "lstm (LSTM)                  (None, 100)               56400     \n",
            "_________________________________________________________________\n",
            "dropout_1 (Dropout)          (None, 100)               0         \n",
            "_________________________________________________________________\n",
            "dense (Dense)                (None, 1)                 101       \n",
            "=================================================================\n",
            "Total params: 456,501\n",
            "Trainable params: 456,501\n",
            "Non-trainable params: 0\n",
            "_________________________________________________________________\n",
            "None\n"
          ],
          "name": "stdout"
        }
      ]
    },
    {
      "cell_type": "code",
      "metadata": {
        "colab": {
          "base_uri": "https://localhost:8080/"
        },
        "id": "fH2d4rajmI1s",
        "outputId": "04599e36-5d16-41d5-aa9b-f0d8ea664561"
      },
      "source": [
        "len(embedded_docs),y.shape\r\n"
      ],
      "execution_count": null,
      "outputs": [
        {
          "output_type": "execute_result",
          "data": {
            "text/plain": [
              "(1000, (1000,))"
            ]
          },
          "metadata": {
            "tags": []
          },
          "execution_count": 106
        }
      ]
    },
    {
      "cell_type": "code",
      "metadata": {
        "id": "MbITXyXGmXeS"
      },
      "source": [
        "X_final=np.array(embedded_docs)\r\n",
        "y_final=np.array(y)\r\n"
      ],
      "execution_count": null,
      "outputs": []
    },
    {
      "cell_type": "code",
      "metadata": {
        "id": "6-sbZZ8jma9t"
      },
      "source": [
        "\r\n",
        "for i in range(1000):\r\n",
        "  if y_final[i]==1:\r\n",
        "    y_final[i]=1\r\n",
        "  else:\r\n",
        "    y_final[i]=0"
      ],
      "execution_count": null,
      "outputs": []
    },
    {
      "cell_type": "code",
      "metadata": {
        "colab": {
          "base_uri": "https://localhost:8080/",
          "height": 340
        },
        "id": "rWCSJsJamc6B",
        "outputId": "0f854757-1841-4d4a-fdb7-41cbe5b7b6c0"
      },
      "source": [
        "sns.countplot(y_final)\r\n"
      ],
      "execution_count": null,
      "outputs": [
        {
          "output_type": "stream",
          "text": [
            "/usr/local/lib/python3.6/dist-packages/seaborn/_decorators.py:43: FutureWarning: Pass the following variable as a keyword arg: x. From version 0.12, the only valid positional argument will be `data`, and passing other arguments without an explicit keyword will result in an error or misinterpretation.\n",
            "  FutureWarning\n"
          ],
          "name": "stderr"
        },
        {
          "output_type": "execute_result",
          "data": {
            "text/plain": [
              "<matplotlib.axes._subplots.AxesSubplot at 0x7f04587b57b8>"
            ]
          },
          "metadata": {
            "tags": []
          },
          "execution_count": 111
        },
        {
          "output_type": "display_data",
          "data": {
            "image/png": "[encoded data removed]",
            "text/plain": [
              "<Figure size 432x288 with 1 Axes>"
            ]
          },
          "metadata": {
            "tags": [],
            "needs_background": "light"
          }
        }
      ]
    },
    {
      "cell_type": "code",
      "metadata": {
        "id": "NP8IyUt_mq1-"
      },
      "source": [
        "X_train, X_test, y_train, y_test = train_test_split(X_final, y_final, test_size=0.33, random_state=42)\r\n"
      ],
      "execution_count": null,
      "outputs": []
    },
    {
      "cell_type": "code",
      "metadata": {
        "colab": {
          "base_uri": "https://localhost:8080/"
        },
        "id": "9O44nk9_mvGU",
        "outputId": "7fa841ca-a1c7-4321-c6b2-fda880bb7aba"
      },
      "source": [
        "# Finally Training\r\n",
        "model.fit(X_train,y_train,validation_data=(X_test,y_test),epochs=5,batch_size=32)"
      ],
      "execution_count": null,
      "outputs": [
        {
          "output_type": "stream",
          "text": [
            "Epoch 1/5\n",
            "21/21 [==============================] - 4s 81ms/step - loss: 0.6839 - accuracy: 0.6648 - val_loss: 0.6173 - val_accuracy: 0.6939\n",
            "Epoch 2/5\n",
            "21/21 [==============================] - 1s 57ms/step - loss: 0.5806 - accuracy: 0.7642 - val_loss: 0.4882 - val_accuracy: 0.8152\n",
            "Epoch 3/5\n",
            "21/21 [==============================] - 1s 65ms/step - loss: 0.4689 - accuracy: 0.8232 - val_loss: 0.4674 - val_accuracy: 0.8333\n",
            "Epoch 4/5\n",
            "21/21 [==============================] - 1s 57ms/step - loss: 0.4348 - accuracy: 0.8217 - val_loss: 0.4205 - val_accuracy: 0.8091\n",
            "Epoch 5/5\n",
            "21/21 [==============================] - 1s 58ms/step - loss: 0.3654 - accuracy: 0.8150 - val_loss: 0.4254 - val_accuracy: 0.8212\n"
          ],
          "name": "stdout"
        },
        {
          "output_type": "execute_result",
          "data": {
            "text/plain": [
              "<tensorflow.python.keras.callbacks.History at 0x7f045869e4e0>"
            ]
          },
          "metadata": {
            "tags": []
          },
          "execution_count": 113
        }
      ]
    },
    {
      "cell_type": "code",
      "metadata": {
        "colab": {
          "base_uri": "https://localhost:8080/"
        },
        "id": "YK6pAK2Qmx6C",
        "outputId": "1dc0aa17-2796-4c1f-b968-af1d3d174c93"
      },
      "source": [
        "y_pred=model.predict_classes(X_test)\r\n",
        "from sklearn.metrics import confusion_matrix\r\n",
        "print(confusion_matrix(y_test,y_pred))\r\n",
        "from sklearn.metrics import accuracy_score\r\n",
        "accuracy_score(y_test,y_pred)"
      ],
      "execution_count": null,
      "outputs": [
        {
          "output_type": "stream",
          "text": [
            "/usr/local/lib/python3.6/dist-packages/tensorflow/python/keras/engine/sequential.py:450: UserWarning: `model.predict_classes()` is deprecated and will be removed after 2021-01-01. Please use instead:* `np.argmax(model.predict(x), axis=-1)`,   if your model does multi-class classification   (e.g. if it uses a `softmax` last-layer activation).* `(model.predict(x) > 0.5).astype(\"int32\")`,   if your model does binary classification   (e.g. if it uses a `sigmoid` last-layer activation).\n",
            "  warnings.warn('`model.predict_classes()` is deprecated and '\n"
          ],
          "name": "stderr"
        },
        {
          "output_type": "stream",
          "text": [
            "[[ 91  52]\n",
            " [  7 180]]\n"
          ],
          "name": "stdout"
        },
        {
          "output_type": "execute_result",
          "data": {
            "text/plain": [
              "0.8212121212121212"
            ]
          },
          "metadata": {
            "tags": []
          },
          "execution_count": 114
        }
      ]
    },
    {
      "cell_type": "markdown",
      "metadata": {
        "id": "HHTzms7U4sXJ"
      },
      "source": [
        "Using Tensorflow we get 82% accuracy and using Multinomial Naive Bayes Classifier we get 83.6% accuracy\r\n",
        "\r\n",
        "\r\n"
      ]
    },
    {
      "cell_type": "code",
      "metadata": {
        "id": "djjbaMXfm1QE"
      },
      "source": [
        ""
      ],
      "execution_count": null,
      "outputs": []
    }
  ]
}